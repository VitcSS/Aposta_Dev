{
 "cells": [
  {
   "cell_type": "code",
   "execution_count": 7,
   "metadata": {},
   "outputs": [],
   "source": [
    "import json\n",
    "from aposta_dev.consume import get_federal, result\n",
    "from aposta_dev.mapping import raffle_result, get_mapping\n",
    "from typing import Dict"
   ]
  },
  {
   "cell_type": "markdown",
   "metadata": {},
   "source": [
    "## Apostas"
   ]
  },
  {
   "cell_type": "code",
   "execution_count": 8,
   "metadata": {},
   "outputs": [
    {
     "name": "stdout",
     "output_type": "stream",
     "text": [
      "Augusto : Hidra\n",
      "Ariel : Grifo\n",
      "Christian : Medusa\n",
      "Vitor : Dragão\n"
     ]
    }
   ],
   "source": [
    "with open('bets.json') as file:\n",
    "    bets = json.load(file)\n",
    "for k,v in bets.items() : print( f\"{k} : {v}\")"
   ]
  },
  {
   "cell_type": "markdown",
   "metadata": {},
   "source": [
    "## Setup"
   ]
  },
  {
   "cell_type": "markdown",
   "metadata": {},
   "source": [
    "### Criaturas possíveis"
   ]
  },
  {
   "cell_type": "code",
   "execution_count": 9,
   "metadata": {},
   "outputs": [
    {
     "name": "stdout",
     "output_type": "stream",
     "text": [
      "Hidra : 2\n",
      "Grifo : 4\n",
      "Medusa : 6\n",
      "Boto : 8\n",
      "Dragão : 10\n"
     ]
    }
   ],
   "source": [
    "options : Dict = get_mapping(path = 'aposta_dev/map.json')\n",
    "for k,v in options.items() : print( f\"{v} : {k}\")"
   ]
  },
  {
   "cell_type": "markdown",
   "metadata": {},
   "source": [
    "### Criatura sorteada"
   ]
  },
  {
   "cell_type": "code",
   "execution_count": 10,
   "metadata": {},
   "outputs": [
    {
     "name": "stdout",
     "output_type": "stream",
     "text": [
      "Resultado Loteria Federal:\n",
      "\tloteria : federal\n",
      "\tconcurso : 5805\n",
      "\tdata : 04/10/2023\n",
      "\tlocal : ESPAÇO DA SORTE em SAO PAULO, SP\n",
      "\tdezenas : ['098586', '035385', '075526', '039803', '025621']\n",
      "Número selecionado:\n",
      "9\n",
      "Criatura Selecionada:\n",
      "Dragão\n"
     ]
    }
   ],
   "source": [
    "federal : Dict = get_federal(competition='latest')\n",
    "raffled_number : int = result(federal)\n",
    "creature : str= raffle_result(raffled_number)\n",
    "print('Resultado Loteria Federal:')\n",
    "for k,v in federal.items() : print( f\"\\t{k} : {v}\")\n",
    "print('Número selecionado:')\n",
    "print(raffled_number)\n",
    "print('Criatura Selecionada:')\n",
    "print(creature)"
   ]
  },
  {
   "cell_type": "markdown",
   "metadata": {},
   "source": [
    "## Resultado de Apostas"
   ]
  },
  {
   "cell_type": "code",
   "execution_count": 11,
   "metadata": {},
   "outputs": [
    {
     "name": "stdout",
     "output_type": "stream",
     "text": [
      "Augusto : Perdeu :(\n",
      "Ariel : Perdeu :(\n",
      "Christian : Perdeu :(\n",
      "Vitor : Ganhou !!!\n"
     ]
    }
   ],
   "source": [
    "for k,v in bets.items():\n",
    "    if v == creature:\n",
    "        print(f\"{k} : Ganhou !!!\")\n",
    "    else:\n",
    "        print(f\"{k} : Perdeu :(\")"
   ]
  }
 ],
 "metadata": {
  "kernelspec": {
   "display_name": "aposta-dev-Mt_MQ7sM-py3.10",
   "language": "python",
   "name": "python3"
  },
  "language_info": {
   "codemirror_mode": {
    "name": "ipython",
    "version": 3
   },
   "file_extension": ".py",
   "mimetype": "text/x-python",
   "name": "python",
   "nbconvert_exporter": "python",
   "pygments_lexer": "ipython3",
   "version": "3.10.12"
  },
  "orig_nbformat": 4
 },
 "nbformat": 4,
 "nbformat_minor": 2
}
